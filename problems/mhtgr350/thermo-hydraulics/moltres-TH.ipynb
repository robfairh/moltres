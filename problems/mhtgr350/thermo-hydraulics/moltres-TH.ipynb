{
 "cells": [
  {
   "cell_type": "code",
   "execution_count": 2,
   "metadata": {},
   "outputs": [],
   "source": [
    "import numpy as np\n",
    "pi = np.pi"
   ]
  },
  {
   "cell_type": "markdown",
   "metadata": {},
   "source": [
    "# advec5-t"
   ]
  },
  {
   "cell_type": "code",
   "execution_count": 3,
   "metadata": {},
   "outputs": [
    {
     "data": {
      "text/plain": [
       "961.830988618379"
      ]
     },
     "execution_count": 3,
     "metadata": {},
     "output_type": "execute_result"
    }
   ],
   "source": [
    "rho = 1e-2\n",
    "cp = 2e3\n",
    "v = 0.5\n",
    "\n",
    "L = 100\n",
    "dx = 2\n",
    "\n",
    "Ti = 930\n",
    "q0 = 10\n",
    "\n",
    "To = Ti + 1/rho/cp/v * 1/dx * q0 * 2 * L/pi\n",
    "To"
   ]
  },
  {
   "cell_type": "markdown",
   "metadata": {},
   "source": [
    "# advec6-t\n",
    "\n",
    "based on PMR600\n",
    "\n",
    "[1]: Tak, Kim, Lee. Numerical investigation of a heat transfer within the prismatic fuel assembly\n",
    "of a very high temperature reactor. 2008. [link](https://www.sciencedirect.com/science/article/pii/S0306454908001114)\n",
    "\n",
    "[2]: Tak, Lee, Kim, Lim, and Noh. Development of a Core Thermo-Fluid Analysis Code for Prismatic Gas Cooled Reactors. 2014. [link](https://www.sciencedirect.com/science/article/pii/S1738573315301042)."
   ]
  },
  {
   "cell_type": "code",
   "execution_count": 14,
   "metadata": {},
   "outputs": [
    {
     "name": "stdout",
     "output_type": "stream",
     "text": [
      "mass flow of a large coolant channel 0.022987486565742593 kg/s\n"
     ]
    }
   ],
   "source": [
    "L = 793  # [cm]\n",
    "rlc = 0.794  # [cm]\n",
    "rsc = 0.635  # [cm]\n",
    "rf = 0.635  # [cm]\n",
    "\n",
    "rho = 4.368  # [kg/m3] 7 MPa, 490 C [2]\n",
    "cp = 5.188  # [J/g/K] 7 MPa, 490 C [2]\n",
    "\n",
    "# v = 0.5\n",
    "ma = 2.46  # kg/s Assembly flow rate [1]\n",
    "ma = ma*(1-1.1/100)  # [1]\n",
    "\n",
    "Ac = 102 * np.pi * rlc**2 + 6 * np.pi * rsc**2  # cm^2\n",
    "mlc = ma/Ac * np.pi * rlc**2\n",
    "print('mass flow of a large coolant channel', mlc, 'kg/s')\n",
    "\n",
    "mlc "
   ]
  },
  {
   "cell_type": "code",
   "execution_count": 11,
   "metadata": {},
   "outputs": [
    {
     "name": "stdout",
     "output_type": "stream",
     "text": [
      "70.64616514954027\n"
     ]
    }
   ],
   "source": [
    "Ti = 490  # [C]\n",
    "# To = 950\n",
    "\n",
    "P = 600e6  # [W]\n",
    "nfc = 102  # number of fuel columns\n",
    "\n",
    "vf = nfc * 210 * pi * 0.635**2 * 793\n",
    "q = P/vf  # [W/cm3] q'''\n",
    "\n",
    "# two channels send their heat to a cooling channel\n",
    "q = P / (nfc * 210 ) * 2 / 793\n",
    "print(q)"
   ]
  },
  {
   "cell_type": "code",
   "execution_count": 13,
   "metadata": {},
   "outputs": [
    {
     "data": {
      "text/plain": [
       "6.0"
      ]
     },
     "execution_count": 13,
     "metadata": {},
     "output_type": "execute_result"
    }
   ],
   "source": [
    "12*0.5\n",
    "\n"
   ]
  },
  {
   "cell_type": "code",
   "execution_count": 15,
   "metadata": {},
   "outputs": [
    {
     "data": {
      "text/plain": [
       "2.3447236297057445"
      ]
     },
     "execution_count": 15,
     "metadata": {},
     "output_type": "execute_result"
    }
   ],
   "source": [
    "0.022987486565742593 * 102"
   ]
  },
  {
   "cell_type": "code",
   "execution_count": null,
   "metadata": {},
   "outputs": [],
   "source": []
  }
 ],
 "metadata": {
  "kernelspec": {
   "display_name": "Python 3",
   "language": "python",
   "name": "python3"
  },
  "language_info": {
   "codemirror_mode": {
    "name": "ipython",
    "version": 3
   },
   "file_extension": ".py",
   "mimetype": "text/x-python",
   "name": "python",
   "nbconvert_exporter": "python",
   "pygments_lexer": "ipython3",
   "version": "3.6.7"
  }
 },
 "nbformat": 4,
 "nbformat_minor": 4
}
