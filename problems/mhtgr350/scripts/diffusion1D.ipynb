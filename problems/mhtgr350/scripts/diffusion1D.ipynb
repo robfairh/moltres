{
 "cells": [
  {
   "cell_type": "markdown",
   "metadata": {},
   "source": [
    "This jupyter notebook compares the solutions obtained with finite differences and moltres for a 1D and pseudo 1D cases."
   ]
  },
  {
   "cell_type": "code",
   "execution_count": 4,
   "metadata": {},
   "outputs": [],
   "source": [
    "import numpy as np\n",
    "import numpy.linalg as la\n",
    "from scipy.sparse import diags\n",
    "import matplotlib.pyplot as plt\n",
    "\n",
    "def get_xs(base):\n",
    "    inFile = base + 'DIFFCOEF.txt'\n",
    "    with open(inFile, 'r') as i:\n",
    "        data = i.readlines()\n",
    "    lines = list()\n",
    "    for line in data:\n",
    "        lines.append(line.split())\n",
    "    D = float(lines[0][1]), float(lines[0][2])\n",
    "\n",
    "    inFile = base + 'REMXS.txt'\n",
    "    with open(inFile, 'r') as i:\n",
    "        data = i.readlines()\n",
    "    lines = list()\n",
    "    for line in data:\n",
    "        lines.append(line.split())\n",
    "    sr = float(lines[0][1]), float(lines[0][2])\n",
    "\n",
    "    inFile = base + 'SP0.txt'\n",
    "    with open(inFile, 'r') as i:\n",
    "        data = i.readlines()\n",
    "    lines = list()\n",
    "    for line in data:\n",
    "        lines.append(line.split())\n",
    "    # sigmaS21, sigmaS12\n",
    "    ss = float(lines[0][3]), float(lines[0][2])\n",
    "\n",
    "    inFile = base + 'CHIT.txt'\n",
    "    with open(inFile, 'r') as i:\n",
    "        data = i.readlines()\n",
    "    lines = list()\n",
    "    for line in data:\n",
    "        lines.append(line.split())\n",
    "    chi = float(lines[0][1]), float(lines[0][2])\n",
    "\n",
    "    inFile = base + 'NSF.txt'\n",
    "    with open(inFile, 'r') as i:\n",
    "        data = i.readlines()\n",
    "    lines = list()\n",
    "    for line in data:\n",
    "        lines.append(line.split())\n",
    "    nusf = float(lines[0][1]), float(lines[0][2])\n",
    "    \n",
    "    return D, sr, ss, chi, nusf"
   ]
  },
  {
   "cell_type": "markdown",
   "metadata": {},
   "source": [
    "# 2 Groups, 1 Region"
   ]
  },
  {
   "cell_type": "code",
   "execution_count": 5,
   "metadata": {},
   "outputs": [],
   "source": [
    "base = '../xs/8/xs800000-500-100/htgr_2g_'\n",
    "cD, csr, css, cchi, cnusf = get_xs(base + 'homoge_')"
   ]
  },
  {
   "cell_type": "code",
   "execution_count": 13,
   "metadata": {},
   "outputs": [
    {
     "name": "stdout",
     "output_type": "stream",
     "text": [
      "i =  231\n",
      "k =  1.4152965401760176\n",
      "0.17645760796565435\n"
     ]
    },
    {
     "data": {
      "image/png": "[encoded data removed]",
      "text/plain": [
       "<Figure size 432x288 with 1 Axes>"
      ]
     },
     "metadata": {
      "needs_background": "light"
     },
     "output_type": "display_data"
    }
   ],
   "source": [
    "# Build system\n",
    "N = 100\n",
    "x = np.linspace(0, 793, num=N)\n",
    "hx = x[1]-x[0]\n",
    "hx2 = hx**2\n",
    "\n",
    "# Diffusion matrix\n",
    "DM1 = diags([1, -2, 1], [-1, 0, 1], shape=(N, N)).toarray()\n",
    "DM2 = diags([1, -2, 1], [-1, 0, 1], shape=(N, N)).toarray()\n",
    "D = np.zeros((2*N,2*N))\n",
    "D[:N,:N] = cD[0]/hx2 * DM1\n",
    "D[N:2*N,N:2*N] = cD[1]/hx2 * DM2\n",
    "\n",
    "# Removal\n",
    "SR = np.eye(2*N)\n",
    "SR[:N,:N] = -csr[0] * SR[:N,:N]\n",
    "SR[N:2*N,N:2*N] = -csr[1] * SR[N:2*N,N:2*N]\n",
    "\n",
    "# In-scattering\n",
    "aux1 = np.eye(N)\n",
    "SS = np.zeros((2*N,2*N))\n",
    "# No up-scattering for the moment\n",
    "SS[:N,N:2*N] = css[0] * aux1\n",
    "SS[N:2*N,:N] = css[1] * aux1\n",
    "\n",
    "# Fission\n",
    "F = np.zeros((2*N,2*N))\n",
    "F[:N,:N] = cnusf[0] * aux1\n",
    "F[:N,N:2*N] =  cnusf[1] * aux1\n",
    "\n",
    "# Apply BCs\n",
    "LHS = D + SR + SS\n",
    "LHS[0] = np.zeros(2*N)\n",
    "LHS[0, 0] = 1.0\n",
    "LHS[N-1] = np.zeros(2*N)\n",
    "LHS[N-1, N-1] = 1.0\n",
    "LHS[N] = np.zeros(2*N)\n",
    "LHS[N, N] = 1.0\n",
    "LHS[2*N-1] = np.zeros(2*N)\n",
    "LHS[2*N-1, 2*N-1] = 1.0\n",
    "\n",
    "F[0] = np.zeros(2*N)\n",
    "F[N-1] = np.zeros(2*N)\n",
    "F[N] = np.zeros(2*N)\n",
    "F[2*N-1] = np.zeros(2*N)\n",
    "\n",
    "k = 1.0\n",
    "flux_old = np.ones(2*N)\n",
    "RHS = -F @ flux_old\n",
    "\n",
    "def converged(k_old, k):\n",
    "    if abs((k - k_old)/k_old) <= 1e-9:\n",
    "        return True\n",
    "    else:\n",
    "        return False\n",
    "\n",
    "for i in range(1000):\n",
    "    k_old = k\n",
    "    flux_new = np.linalg.solve(LHS, RHS)\n",
    "    kp = sum((F @ flux_new)[:N])/sum((F @ flux_old)[:N])\n",
    "    k = k_old * kp\n",
    "    RHS = -(1/k) * F @ flux_new\n",
    "    flux_old = flux_new\n",
    "    if converged(k_old, k) == True:\n",
    "        break\n",
    "\n",
    "print('i = ', i)\n",
    "print('k = ', k)\n",
    "        \n",
    "flux1 = flux_old[:N]\n",
    "M = max(flux1)\n",
    "flux1 /= M\n",
    "flux2 = flux_old[N:2*N]\n",
    "flux2 /= M\n",
    "\n",
    "print(max(flux2)/max(flux1))\n",
    "\n",
    "plt.plot(x, flux1, label='group 1')\n",
    "plt.plot(x, flux2, label='group 2')\n",
    "plt.legend(loc='upper right')\n",
    "plt.show()"
   ]
  },
  {
   "cell_type": "markdown",
   "metadata": {},
   "source": [
    "# 2 Groups, 3 Regions"
   ]
  },
  {
   "cell_type": "code",
   "execution_count": 9,
   "metadata": {},
   "outputs": [],
   "source": [
    "base = '../xs/8/xs800000-500-100/htgr_2g_'\n",
    "cD, csr, css, cchi, cnusf = get_xs(base + 'homoge_')\n",
    "bD, bsr, bss, bchi, bnusf = get_xs(base + 'brefl_')\n",
    "tD, tsr, tss, tchi, tnusf = get_xs(base + 'trefl_')"
   ]
  },
  {
   "cell_type": "code",
   "execution_count": 20,
   "metadata": {},
   "outputs": [
    {
     "name": "stdout",
     "output_type": "stream",
     "text": [
      "i =  287\n",
      "k =  1.41676397976493\n"
     ]
    },
    {
     "data": {
      "image/png": "[encoded data removed]",
      "text/plain": [
       "<Figure size 432x288 with 1 Axes>"
      ]
     },
     "metadata": {
      "needs_background": "light"
     },
     "output_type": "display_data"
    },
    {
     "data": {
      "image/png": "[encoded data removed]",
      "text/plain": [
       "<Figure size 432x288 with 1 Axes>"
      ]
     },
     "metadata": {
      "needs_background": "light"
     },
     "output_type": "display_data"
    }
   ],
   "source": [
    "# Build system\n",
    "Nb = 40\n",
    "xb = np.linspace(0, 160, num=Nb)\n",
    "hb = xb[1]-xb[0]\n",
    "hb2 = hb**2\n",
    "\n",
    "Nc = 190\n",
    "xc = np.linspace(0, 793, num=Nc)\n",
    "hc = xc[1]-xc[0]\n",
    "Nc -= 2\n",
    "xc = np.linspace(xb[-1]+hc, xb[-1]+793-hc, num=Nc)\n",
    "hc = xc[1]-xc[0]\n",
    "hc2 = hc**2\n",
    "\n",
    "Nt = 40\n",
    "xt = np.linspace(xc[-1]+hc, xc[-1]+hc+120, num=Nt)\n",
    "ht = xt[1]-xt[0]\n",
    "ht2 = ht**2\n",
    "\n",
    "N = Nb+Nc+Nt\n",
    "x = np.concatenate([xb, xc, xt])\n",
    "\n",
    "# Diffusion matrix\n",
    "DM = diags([1, -2, 1], [-1, 0, 1], shape=(N, N)).toarray()\n",
    "D = np.zeros((2*N, 2*N))\n",
    "\n",
    "D[:Nb,:Nb] = bD[0]/hb2 * DM[:Nb,:Nb]\n",
    "D[Nb-1,Nb] = bD[0]/hc2\n",
    "\n",
    "D[Nb:Nb+Nc,Nb-1:Nb+Nc+1] = cD[0]/hc2 * DM[Nb:Nb+Nc,Nb-1:Nb+Nc+1]\n",
    "\n",
    "D[Nb+Nc,Nb+Nc-1] = tD[0]/hc2\n",
    "D[Nb+Nc:Nb+Nc+Nt,Nb+Nc:Nb+Nc+Nt] = tD[0]/ht2 * DM[Nb+Nc:Nb+Nc+Nt,Nb+Nc:Nb+Nc+Nt]\n",
    "\n",
    "\n",
    "D[N:N+Nb,N:N+Nb+1] = bD[1]/hb2 * DM[:Nb,:Nb+1]\n",
    "D[N+Nb-1,N+Nb] = bD[1]/hc2\n",
    "\n",
    "D[N+Nb:N+Nb+Nc,N+Nb-1:N+Nb+Nc+1] = cD[1]/hc2 * DM[Nb:Nb+Nc,Nb-1:Nb+Nc+1]\n",
    "\n",
    "D[N+Nb+Nc,N+Nb+Nc-1] = tD[1]/hc2\n",
    "D[N+Nb+Nc:N+Nb+Nc+Nt,N+Nb+Nc:N+Nb+Nc+Nt] = tD[1]/ht2 * DM[Nb+Nc:Nb+Nc+Nt,Nb+Nc:Nb+Nc+Nt]\n",
    "\n",
    "# Removal\n",
    "SR = np.eye(2*N)\n",
    "SR[:Nb,:Nb] *= -bsr[0]\n",
    "SR[Nb:Nb+Nc,Nb:Nb+Nc] *= -csr[0]\n",
    "SR[Nb+Nc:Nb+Nc+Nt,Nb+Nc:Nb+Nc+Nt] *= -tsr[0]\n",
    "SR[N:N+Nb,N:N+Nb] *= -bsr[1]\n",
    "SR[N+Nb:N+Nb+Nc,N+Nb:N+Nb+Nc] *= -csr[1]\n",
    "SR[N+Nb+Nc:N+Nb+Nc+Nt,N+Nb+Nc:N+Nb+Nc+Nt] *= -tsr[1]\n",
    "\n",
    "# In-scattering\n",
    "aux1 = np.eye(N)\n",
    "SS = np.zeros((2*N, 2*N))\n",
    "SS[:Nb,N:N+Nb] = bss[0] * aux1[:Nb,:Nb]\n",
    "SS[Nb:Nb+Nc,N+Nb:N+Nb+Nc] = css[0] * aux1[Nb:Nb+Nc,Nb:Nb+Nc]\n",
    "SS[Nb+Nc:Nb+Nc+Nt,N+Nb+Nc:N+Nb+Nc+Nt] = tss[0] * aux1[Nb+Nc:Nb+Nc+Nt,Nb+Nc:Nb+Nc+Nt]\n",
    "SS[N:N+Nb,:Nb] = bss[1] * aux1[:Nb,:Nb]\n",
    "SS[N+Nb:N+Nb+Nc,Nb:Nb+Nc] = css[1] * aux1[Nb:Nb+Nc,Nb:Nb+Nc]\n",
    "SS[N+Nb+Nc:N+Nb+Nc+Nt,Nb+Nc:Nb+Nc+Nt] = tss[1] * aux1[Nb+Nc:Nb+Nc+Nt,Nb+Nc:Nb+Nc+Nt]\n",
    "\n",
    "# Fission\n",
    "F = np.zeros((2*N, 2*N))\n",
    "F[Nb:Nb+Nc,Nb:Nb+Nc] = cnusf[0] * aux1[Nb:Nb+Nc,Nb:Nb+Nc]\n",
    "F[Nb:Nb+Nc,N+Nb:N+Nb+Nc] = cnusf[1] * aux1[Nb:Nb+Nc,Nb:Nb+Nc]\n",
    "\n",
    "# Apply BCs\n",
    "LHS = D + SR + SS\n",
    "LHS[0] = np.zeros(2*N)\n",
    "LHS[0, 0] = 1.0\n",
    "LHS[N-1] = np.zeros(2*N)\n",
    "LHS[N-1, N-1] = 1.0\n",
    "LHS[N] = np.zeros(2*N)\n",
    "LHS[N, N] = 1.0\n",
    "LHS[2*N-1] = np.zeros(2*N)\n",
    "LHS[2*N-1, 2*N-1] = 1.0\n",
    "\n",
    "F[0] = np.zeros(2*N)\n",
    "F[N-1] = np.zeros(2*N)\n",
    "F[N] = np.zeros(2*N)\n",
    "F[2*N-1] = np.zeros(2*N)\n",
    "\n",
    "k = 1.0\n",
    "flux_old = np.ones(2*N)\n",
    "RHS = -F @ flux_old\n",
    "\n",
    "def converged(k_old, k):\n",
    "    if abs((k - k_old)/k_old) <= 1e-9:\n",
    "        return True\n",
    "    else:\n",
    "        return False\n",
    "\n",
    "for i in range(1000):\n",
    "    k_old = k\n",
    "    flux_new = np.linalg.solve(LHS, RHS)\n",
    "    #k = k_old * sum(F @ flux_new)/sum(F @ flux_old)\n",
    "    kp = sum(F @ flux_new)/sum(F @ flux_old)\n",
    "    #kp = sum((F @ flux_new)[:N])/sum((F @ flux_old)[:N])\n",
    "    k = k_old * kp\n",
    "    #print(k)\n",
    "    RHS = -(1./k) * F @ flux_new\n",
    "    flux_old = flux_new\n",
    "    if converged(k_old, k) == True:\n",
    "        break\n",
    "\n",
    "print('i = ', i)\n",
    "print('k = ', k)\n",
    "#flux = flux_old/(sum(flux_old)*hx)\n",
    "flux = flux_old\n",
    "flux1 = flux[:N]\n",
    "flux2 = flux[N:2*N]\n",
    "\n",
    "plt.figure(1)\n",
    "plt.plot(x, flux1, label='group 1')\n",
    "plt.legend(loc='upper right')\n",
    "plt.show()\n",
    "\n",
    "plt.figure(2)\n",
    "plt.plot(x, flux2, label='group 2')\n",
    "plt.legend(loc='upper right')\n",
    "plt.show()"
   ]
  },
  {
   "cell_type": "code",
   "execution_count": null,
   "metadata": {},
   "outputs": [],
   "source": []
  }
 ],
 "metadata": {
  "kernelspec": {
   "display_name": "Python 3",
   "language": "python",
   "name": "python3"
  },
  "language_info": {
   "codemirror_mode": {
    "name": "ipython",
    "version": 3
   },
   "file_extension": ".py",
   "mimetype": "text/x-python",
   "name": "python",
   "nbconvert_exporter": "python",
   "pygments_lexer": "ipython3",
   "version": "3.6.7"
  }
 },
 "nbformat": 4,
 "nbformat_minor": 4
}
