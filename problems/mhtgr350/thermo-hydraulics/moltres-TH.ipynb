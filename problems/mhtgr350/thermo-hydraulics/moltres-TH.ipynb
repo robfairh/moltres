{
 "cells": [
  {
   "cell_type": "code",
   "execution_count": 2,
   "metadata": {},
   "outputs": [],
   "source": [
    "import numpy as np\n",
    "pi = np.pi"
   ]
  },
  {
   "cell_type": "markdown",
   "metadata": {},
   "source": [
    "# advec5-t"
   ]
  },
  {
   "cell_type": "code",
   "execution_count": 3,
   "metadata": {},
   "outputs": [
    {
     "data": {
      "text/plain": [
       "961.830988618379"
      ]
     },
     "execution_count": 3,
     "metadata": {},
     "output_type": "execute_result"
    }
   ],
   "source": [
    "rho = 1e-2\n",
    "cp = 2e3\n",
    "v = 0.5\n",
    "\n",
    "L = 100\n",
    "dx = 2\n",
    "\n",
    "Ti = 930\n",
    "q0 = 10\n",
    "\n",
    "To = Ti + 1/rho/cp/v * 1/dx * q0 * 2 * L/pi\n",
    "To"
   ]
  },
  {
   "cell_type": "markdown",
   "metadata": {},
   "source": [
    "# advec6-t\n",
    "\n",
    "based on PMR600\n",
    "\n",
    "\n",
    "\n",
    "\n",
    "[1]: Tak, Kim, Lee. Numerical investigation of a heat transfer within the prismatic fuel assembly\n",
    "of a very high temperature reactor. 2008. [link](https://www.sciencedirect.com/science/article/pii/S0306454908001114)\n",
    "\n",
    "[2]: Tak, Lee, Kim, Lim, and Noh. Development of a Core Thermo-Fluid Analysis Code for Prismatic Gas Cooled Reactors. 2014. [link](https://www.sciencedirect.com/science/article/pii/S1738573315301042)."
   ]
  },
  {
   "cell_type": "code",
   "execution_count": 7,
   "metadata": {},
   "outputs": [
    {
     "data": {
      "text/plain": [
       "63.688588278752206"
      ]
     },
     "execution_count": 7,
     "metadata": {},
     "output_type": "execute_result"
    }
   ],
   "source": [
    "rho = 1e-2\n",
    "cp = 2e3\n",
    "v = 0.5\n",
    "\n",
    "L = 793\n",
    "rc = 0.794\n",
    "\n",
    "Ti = 259\n",
    "To = 687\n",
    "\n",
    "q0 = 350e6/66/210*2/793 #*rc/2\n",
    "q0"
   ]
  },
  {
   "cell_type": "code",
   "execution_count": null,
   "metadata": {},
   "outputs": [],
   "source": []
  }
 ],
 "metadata": {
  "kernelspec": {
   "display_name": "Python 3",
   "language": "python",
   "name": "python3"
  },
  "language_info": {
   "codemirror_mode": {
    "name": "ipython",
    "version": 3
   },
   "file_extension": ".py",
   "mimetype": "text/x-python",
   "name": "python",
   "nbconvert_exporter": "python",
   "pygments_lexer": "ipython3",
   "version": "3.6.7"
  }
 },
 "nbformat": 4,
 "nbformat_minor": 4
}
