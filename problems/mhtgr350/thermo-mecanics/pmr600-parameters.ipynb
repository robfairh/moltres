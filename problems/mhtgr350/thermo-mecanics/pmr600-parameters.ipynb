{
 "cells": [
  {
   "cell_type": "code",
   "execution_count": 7,
   "metadata": {},
   "outputs": [],
   "source": [
    "import numpy as np"
   ]
  },
  {
   "cell_type": "markdown",
   "metadata": {},
   "source": [
    "# Method 1: PMR 600\n",
    "\n",
    "* Fuel:\n",
    "$ 0 = k \\nabla^2 T + \\dot{q}$\n",
    "\n",
    "    - $[\\dot{q}] = \\frac{W}{cm^3}$\n",
    "\n",
    "    - $[\\nabla^2 T] = \\frac{^{\\circ}C}{cm^2}$\n",
    "\n",
    "    - $[k] =  \\frac{[\\dot{q}]}{[\\nabla^2 T]} = \\frac{W}{cm^3} \\frac{cm^2}{^{\\circ}C} = \\frac{W}{cm ^{\\circ}C}$\n",
    "\n",
    "* Moderator:\n",
    "$0 = k \\nabla^2 T$\n",
    "\n",
    "* Coolant:\n",
    "$\\rho c_p u \\frac{\\partial T}{\\partial x} = k \\nabla^2 T$\n",
    "\n",
    "    - $[\\frac{\\partial T}{\\partial x}] = \\frac{^{\\circ}C}{cm}$\n",
    "    \n",
    "    - $[c_p] =  \\frac{J}{kg ^{\\circ}C}$\n",
    "    \n",
    "    - $[\\rho u] = \\frac{[k \\nabla^2 T]}{[c_p][\\frac{\\partial T}{\\partial x}]} = \\frac{W}{cm^3} \\frac{kg ^{\\circ}C}{J} \\frac{cm}{^{\\circ}C} = \\frac{kg}{cm^2 sec}$\n",
    "\n"
   ]
  },
  {
   "cell_type": "code",
   "execution_count": 8,
   "metadata": {},
   "outputs": [
    {
     "name": "stdout",
     "output_type": "stream",
     "text": [
      "5.882352941176471 MW\n",
      "27.884398026004643 W/cm^3\n"
     ]
    }
   ],
   "source": [
    "# power density\n",
    "\n",
    "power = 600  # MW, Reactor power\n",
    "fcn = 102  # Number of fuel columns\n",
    "fcpower = power/fcn  # fuel column power\n",
    "print(fcpower, 'MW')\n",
    "\n",
    "fcpower = fcpower/12  # 1/12 symmetry\n",
    "\n",
    "Vf = np.pi * 0.635**2 * 793 * 17.5  # cm^3\n",
    "Vf = Vf/1e6  # m^3\n",
    "\n",
    "powerdens = fcpower/Vf  # MW/m^3 = W/cm^3'\n",
    "print(powerdens, 'W/cm^3')\n",
    "\n",
    "#It should be 31.1 MW/m3 but it is okay\n",
    "#cause here we are not considering the graphite plugs."
   ]
  },
  {
   "cell_type": "code",
   "execution_count": 9,
   "metadata": {},
   "outputs": [
    {
     "name": "stdout",
     "output_type": "stream",
     "text": [
      "mass flow distributed among the coolant channels 2.43294 kg/s\n",
      "mass flow of a large coolant channel 0.2758498387889111 kg/s\n",
      "mass flow of a small coolant channel 0.17643274058851122 kg/s\n",
      "rho * v =  0.1392777867836153 kg/s/cm^2\n"
     ]
    }
   ],
   "source": [
    "# flow velocity\n",
    "\n",
    "# how to calculate ma ?\n",
    "# mt = 320  # kg/s\n",
    "# mt/102 = 3.13 \\ne ma\n",
    "\n",
    "ma = 2.46  # kg/s Assembly flow rate\n",
    "ma = ma*(1-1.1/100)\n",
    "print('mass flow distributed among the coolant channels', ma, 'kg/s')\n",
    "\n",
    "Ac = 8.5 * np.pi * 0.794**2 + 0.5 * np.pi * 0.635**2  # cm^2\n",
    "\n",
    "mlc = ma/Ac * np.pi * 0.794**2\n",
    "print('mass flow of a large coolant channel', mlc, 'kg/s')\n",
    "msc = ma/Ac * np.pi * 0.635**2\n",
    "print('mass flow of a small coolant channel', msc, 'kg/s')\n",
    "\n",
    "# m = rho*v*A\n",
    "rhov = ma/Ac\n",
    "print('rho * v = ', rhov, 'kg/s/cm^2')"
   ]
  },
  {
   "cell_type": "code",
   "execution_count": 11,
   "metadata": {},
   "outputs": [
    {
     "name": "stdout",
     "output_type": "stream",
     "text": [
      "k graphite: 0.30023809523809525 W/cm/K\n",
      "k compact: 0.07404761904761906 W/cm/K\n",
      "k helium: 0.003665476190476191 W/cm/K\n",
      "5190.0 J/kg/K\n",
      "rho*v*cp =  722.8517134069634 W/cm2/K\n",
      "rho*v*cp/kh =  197205.40411232517\n"
     ]
    }
   ],
   "source": [
    "# Material properties: thermal conductivity\n",
    "tl = np.array([550., 1390.])  # [C]\n",
    "\n",
    "# Graphite\n",
    "kgl = np.array([28., 38.])  # [W/m/K]\n",
    "kgl *= 1e-2 # [W/cm/K]\n",
    "\n",
    "# Fuel\n",
    "kfl = np.array([7., 9.])  # [W/m/K]\n",
    "kfl *= 1e-2  # [W/cm/K]\n",
    "\n",
    "# Helium\n",
    "khl = np.array([32e-2, 55e-2])  # [W/m/K]\n",
    "khl *= 1e-2  # [W/cm/K]\n",
    "\n",
    "tave = (490 + 950)/2\n",
    "kg = np.interp(tave, tl, kgl)\n",
    "kf = np.interp(tave, tl, kfl)\n",
    "kh = np.interp(tave, tl, khl)\n",
    "\n",
    "print('k graphite:', kg, 'W/cm/K')\n",
    "print('k compact:', kf, 'W/cm/K')\n",
    "print('k helium:', kh, 'W/cm/K')\n",
    "\n",
    "# Material properties: cp\n",
    "\n",
    "# Helium\n",
    "cph = 5.19  # [J/g/K]\n",
    "cph *= 1e3  # [J/kg/K]\n",
    "print(cph, 'J/kg/K')\n",
    "\n",
    "print('rho*v*cp = ', rhov*cph, 'W/cm2/K')\n",
    "print('rho*v*cp/kh = ', rhov * cph/kh)"
   ]
  },
  {
   "cell_type": "markdown",
   "metadata": {},
   "source": [
    "# temp1: only coolant\n",
    "\n",
    "$ q'' = \\frac{\\dot{q} \\times 17.5 \\times \\pi \\times R_f^2 \\times H}\n",
    "{8.5 \\times 2 \\times \\pi \\times R_L \\times H + 0.5 \\times 2 \\times \\pi \\times R_S \\times H} = [\\frac{W}{cm^2}]$"
   ]
  },
  {
   "cell_type": "code",
   "execution_count": 12,
   "metadata": {},
   "outputs": [
    {
     "name": "stdout",
     "output_type": "stream",
     "text": [
      "q''= 13.922345708315651 W/cm^2\n",
      "dT/dx (x=wall)= 3798.236568686309 K/cm\n"
     ]
    }
   ],
   "source": [
    "qpp = powerdens*17.5*np.pi*0.635**2/(8.5*2*np.pi*0.794+0.5*2*np.pi*0.635)\n",
    "print(\"q''=\", qpp, \"W/cm^2\")\n",
    "\n",
    "print(\"dT/dx (x=wall)=\", qpp/kh, \"K/cm\")"
   ]
  },
  {
   "cell_type": "markdown",
   "metadata": {},
   "source": [
    "$\\frac{\\rho v c_p}{k} \\frac{\\partial T}{\\partial x} = \\nabla^2 T$"
   ]
  },
  {
   "cell_type": "code",
   "execution_count": 6,
   "metadata": {},
   "outputs": [
    {
     "data": {
      "text/plain": [
       "722.967"
      ]
     },
     "execution_count": 6,
     "metadata": {},
     "output_type": "execute_result"
    }
   ],
   "source": [
    "1*5190*0.1393"
   ]
  },
  {
   "cell_type": "code",
   "execution_count": null,
   "metadata": {},
   "outputs": [],
   "source": [
    "rho = ?\n",
    "rhov/rho"
   ]
  }
 ],
 "metadata": {
  "kernelspec": {
   "display_name": "Python 3",
   "language": "python",
   "name": "python3"
  },
  "language_info": {
   "codemirror_mode": {
    "name": "ipython",
    "version": 3
   },
   "file_extension": ".py",
   "mimetype": "text/x-python",
   "name": "python",
   "nbconvert_exporter": "python",
   "pygments_lexer": "ipython3",
   "version": "3.7.6"
  }
 },
 "nbformat": 4,
 "nbformat_minor": 4
}
