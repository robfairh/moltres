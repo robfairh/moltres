{
 "cells": [
  {
   "cell_type": "code",
   "execution_count": 2,
   "metadata": {},
   "outputs": [],
   "source": [
    "import numpy as np\n",
    "pi = np.pi"
   ]
  },
  {
   "cell_type": "markdown",
   "metadata": {},
   "source": [
    "# advec5-t"
   ]
  },
  {
   "cell_type": "code",
   "execution_count": 3,
   "metadata": {},
   "outputs": [
    {
     "data": {
      "text/plain": [
       "961.830988618379"
      ]
     },
     "execution_count": 3,
     "metadata": {},
     "output_type": "execute_result"
    }
   ],
   "source": [
    "rho = 1e-2\n",
    "cp = 2e3\n",
    "v = 0.5\n",
    "\n",
    "L = 100\n",
    "dx = 2\n",
    "\n",
    "Ti = 930\n",
    "q0 = 10\n",
    "\n",
    "To = Ti + 1/rho/cp/v * 1/dx * q0 * 2 * L/pi\n",
    "To"
   ]
  },
  {
   "cell_type": "markdown",
   "metadata": {},
   "source": [
    "# advec6-t\n",
    "\n",
    "based on PMR600\n",
    "\n",
    "[1]: Tak, Kim, Lee. Numerical investigation of a heat transfer within the prismatic fuel assembly\n",
    "of a very high temperature reactor. 2008. [link](https://www.sciencedirect.com/science/article/pii/S0306454908001114)\n",
    "\n",
    "[2]: Tak, Lee, Kim, Lim, and Noh. Development of a Core Thermo-Fluid Analysis Code for Prismatic Gas Cooled Reactors. 2014. [link](https://www.sciencedirect.com/science/article/pii/S1738573315301042)."
   ]
  },
  {
   "cell_type": "code",
   "execution_count": 26,
   "metadata": {},
   "outputs": [
    {
     "name": "stdout",
     "output_type": "stream",
     "text": [
      "4.368e-06\n",
      "mass flow of a large coolant channel 0.022987486565742593 kg/s\n",
      "2657.1616831428432 cm/s\n"
     ]
    }
   ],
   "source": [
    "L = 793  # [cm]\n",
    "rlc = 0.794  # [cm]\n",
    "rsc = 0.635  # [cm]\n",
    "rf = 0.635  # [cm]\n",
    "\n",
    "rho = 4.368  # [kg/m3] 7 MPa, 490 C [2]\n",
    "# rho = 2.738 # [kg/m3] 7 MPa, 950 C (output density)\n",
    "rho /= 1e6  # [kg/cm3]\n",
    "print(rho)\n",
    "\n",
    "cp = 5.188  # [J/g/K] 7 MPa, 490 C [2]\n",
    "cp *= 1e3  # [J/kg/K]\n",
    "\n",
    "# v = 0.5\n",
    "ma = 2.46  # kg/s Assembly flow rate [1]\n",
    "ma = ma*(1-1.1/100)  # [1]\n",
    "\n",
    "Ac = 102 * np.pi * rlc**2 + 6 * np.pi * rsc**2  # cm^2\n",
    "mlc = ma/Ac * np.pi * rlc**2\n",
    "print('mass flow of a large coolant channel', mlc, 'kg/s')\n",
    "\n",
    "v = mlc/(np.pi * rlc**2)/rho\n",
    "print(v, 'cm/s')  # I got somewhere that the inlet v in the MHTGR350 is 28.5 m/s, so this makes sense\n",
    "# according to another source the max velocity is 60 m/s"
   ]
  },
  {
   "cell_type": "code",
   "execution_count": 40,
   "metadata": {},
   "outputs": [
    {
     "name": "stdout",
     "output_type": "stream",
     "text": [
      "Heat that goes into the coolant channel 56022.40896358543 W\n",
      "70.64616514954027 W/cm\n",
      "110.97073671904349 W/cm\n",
      "14.160814098281763 W/cm2\n",
      "22.24375477000638 W/cm2\n"
     ]
    }
   ],
   "source": [
    "Ti = 490  # [C]\n",
    "# To = 950\n",
    "\n",
    "P = 600e6  # [W]\n",
    "nfc = 102  # number of fuel columns\n",
    "\n",
    "vf = nfc * 210 * pi * 0.635**2 * 793\n",
    "Q = P/vf  # [W/cm3] q'''\n",
    "\n",
    "# two channels send their heat to a cooling channel\n",
    "Q = P / (nfc * 210 ) * 2\n",
    "print('Heat that goes into the coolant channel', Q, 'W')\n",
    "\n",
    "q = Q/793\n",
    "print(q, 'W/cm')\n",
    "q0 = q * pi/2\n",
    "print(q0, 'W/cm')\n",
    "\n",
    "q = Q / (793 * 2 * pi * rlc)\n",
    "print(q, 'W/cm2')\n",
    "\n",
    "q0 = q * pi/2\n",
    "print(q0, 'W/cm2')"
   ]
  },
  {
   "cell_type": "code",
   "execution_count": 42,
   "metadata": {},
   "outputs": [
    {
     "data": {
      "text/plain": [
       "1420.3817894077242"
      ]
     },
     "execution_count": 42,
     "metadata": {},
     "output_type": "execute_result"
    }
   ],
   "source": [
    "To = 490 + 1/(rho*cp*v)*L / 0.794 * #Q/L * 0.794\n",
    "To"
   ]
  },
  {
   "cell_type": "code",
   "execution_count": 15,
   "metadata": {},
   "outputs": [
    {
     "data": {
      "text/plain": [
       "2.3447236297057445"
      ]
     },
     "execution_count": 15,
     "metadata": {},
     "output_type": "execute_result"
    }
   ],
   "source": [
    "0.022987486565742593 * 102"
   ]
  },
  {
   "cell_type": "code",
   "execution_count": 43,
   "metadata": {},
   "outputs": [
    {
     "data": {
      "text/plain": [
       "43.558840000000004"
      ]
     },
     "execution_count": 43,
     "metadata": {},
     "output_type": "execute_result"
    }
   ],
   "source": [
    "54.86*0.794"
   ]
  },
  {
   "cell_type": "code",
   "execution_count": null,
   "metadata": {},
   "outputs": [],
   "source": []
  }
 ],
 "metadata": {
  "kernelspec": {
   "display_name": "Python 3",
   "language": "python",
   "name": "python3"
  },
  "language_info": {
   "codemirror_mode": {
    "name": "ipython",
    "version": 3
   },
   "file_extension": ".py",
   "mimetype": "text/x-python",
   "name": "python",
   "nbconvert_exporter": "python",
   "pygments_lexer": "ipython3",
   "version": "3.6.7"
  }
 },
 "nbformat": 4,
 "nbformat_minor": 4
}
